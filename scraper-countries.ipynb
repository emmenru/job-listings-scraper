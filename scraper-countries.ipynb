{
 "cells": [
  {
   "cell_type": "markdown",
   "id": "a95198ef-8029-45c5-a10c-1e6ec965e939",
   "metadata": {},
   "source": [
    "# Scrape data from Indeed\n",
    "\n",
    "### Import necessary moduels \n",
    "Please note that this code requires a Firefox browser. "
   ]
  },
  {
   "cell_type": "code",
   "execution_count": null,
   "id": "cf73cc87-dbda-4211-bddd-d3d7cd2e7536",
   "metadata": {},
   "outputs": [],
   "source": [
    "import os  \n",
    "import sys \n",
    "from csv import writer  \n",
    "\n",
    "# Add utils directory to Python path\n",
    "print(os.getcwd()) \n",
    "sys.path.append('./utils')  \n",
    "\n",
    "# Import utility functions\n",
    "import utils.web_scraping_utils as scraper"
   ]
  },
  {
   "cell_type": "markdown",
   "id": "6954fc4f-fed4-4d31-8276-d4d6737875ae",
   "metadata": {},
   "source": [
    "### Job title definitions"
   ]
  },
  {
   "cell_type": "code",
   "execution_count": null,
   "id": "bcf93126-7686-4467-9cee-bee62d3e91ed",
   "metadata": {},
   "outputs": [],
   "source": [
    "# Define job search keywords\n",
    "JOB_SEARCH_KEYWORDS = [\n",
    "    'Data+Analyst',\n",
    "    'Data+Scientist', \n",
    "    'Product+Analyst',\n",
    "    'BI+Analyst'\n",
    "]\n",
    "\n",
    "# Define country configurations (base URLs and city lists)\n",
    "COUNTRY_CONFIGS = {\n",
    "    'USA': {\n",
    "        'base_url': 'https://www.indeed.com',\n",
    "        'cities': ['New+York, NY', 'Los+Angeles, CA', 'Chicago, IL']\n",
    "    },\n",
    "    'France': {\n",
    "        'base_url': 'https://www.indeed.fr',\n",
    "        'cities': ['Paris (75)', 'Marseille (13)', 'Lyon (69)']\n",
    "    },\n",
    "    'Italy': {\n",
    "        'base_url': 'https://it.indeed.com',\n",
    "        'cities': ['Roma, Lazio', 'Milano, Lombardia', 'Napoli, Campania']\n",
    "    },\n",
    "    'Sweden': {\n",
    "        'base_url': 'https://se.indeed.com',\n",
    "        'cities': ['Stockholm', 'Göteborg', 'Malmö']\n",
    "    }\n",
    "}"
   ]
  },
  {
   "cell_type": "markdown",
   "id": "1bb251cb-fe3b-43ae-8357-0566c6235344",
   "metadata": {},
   "source": [
    "### Run this cell to select a country"
   ]
  },
  {
   "cell_type": "code",
   "execution_count": null,
   "id": "1b7e4497-9930-4f90-b664-649b28f2c3c3",
   "metadata": {},
   "outputs": [],
   "source": [
    "# Display available countries\n",
    "available_countries = list(COUNTRY_CONFIGS.keys())\n",
    "print('Select a country from the following list:')\n",
    "for i, country in enumerate(available_countries, 1):\n",
    "    print(f\"{i}. {country}\")\n",
    "\n",
    "# Get user selection\n",
    "while True:\n",
    "    try:\n",
    "        country_choice = int(input('Enter the number of your choice: '))\n",
    "        if 1 <= country_choice <= len(available_countries):\n",
    "            selected_country = available_countries[country_choice - 1]\n",
    "            break\n",
    "        print(f'Please enter a number between 1 and {len(available_countries)}')\n",
    "    except ValueError:\n",
    "        print('Please enter a valid number')\n",
    "\n",
    "print(f\"You have selected: {selected_country}\")\n",
    "\n",
    "# Get country configuration using dictionary unpacking\n",
    "base_url, location_search_keywords = COUNTRY_CONFIGS[selected_country].values()"
   ]
  },
  {
   "cell_type": "markdown",
   "id": "850d8043-9456-4956-a12f-dcf0758ccfe9",
   "metadata": {},
   "source": [
    "### Main script \n",
    "Saves the data to a CSV file. "
   ]
  },
  {
   "cell_type": "code",
   "execution_count": null,
   "id": "4d00d2fc-b894-4e0d-a6c8-e42380ad303e",
   "metadata": {},
   "outputs": [],
   "source": [
    "driver = scraper.initialize_driver()\n",
    "try:\n",
    "    with open(f'indeed_jobs_{selected_country}.csv', 'w', newline='', encoding='utf-8') as f:\n",
    "        csv_writer = writer(f)\n",
    "        csv_writer.writerow([\n",
    "            'page', 'country', 'job_link', 'search_keyword', 'search_location',\n",
    "            'job_title', 'company_name', 'company_location', 'salary', 'job_description'\n",
    "        ])\n",
    "        scraper.scrape_jobs(\n",
    "            csv_writer=csv_writer,\n",
    "            driver=driver,\n",
    "            job_keywords=JOB_SEARCH_KEYWORDS,\n",
    "            location_keywords=location_search_keywords,\n",
    "            selected_country=selected_country,\n",
    "            base_url=base_url\n",
    "        )\n",
    "finally:\n",
    "    if driver:\n",
    "        driver.quit()"
   ]
  }
 ],
 "metadata": {
  "kernelspec": {
   "display_name": "Python 3 (ipykernel)",
   "language": "python",
   "name": "python3"
  },
  "language_info": {
   "codemirror_mode": {
    "name": "ipython",
    "version": 3
   },
   "file_extension": ".py",
   "mimetype": "text/x-python",
   "name": "python",
   "nbconvert_exporter": "python",
   "pygments_lexer": "ipython3",
   "version": "3.12.4"
  }
 },
 "nbformat": 4,
 "nbformat_minor": 5
}
