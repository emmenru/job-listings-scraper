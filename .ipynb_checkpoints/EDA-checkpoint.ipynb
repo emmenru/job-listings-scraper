{
 "cells": [
  {
   "cell_type": "markdown",
   "id": "af5df94f-3cd2-4290-85cd-ef3c40551d08",
   "metadata": {},
   "source": [
    "# Indeed Job Listing Data - Exploratory Data Analysis (EDA) "
   ]
  },
  {
   "cell_type": "code",
   "execution_count": 7,
   "id": "dc3c9ebe-f86b-44b9-9ba5-81b68f34c79c",
   "metadata": {},
   "outputs": [],
   "source": [
    "# import necessary packages \n",
    "import numpy as np\n",
    "import pandas as pd \n",
    "import matplotlib.pyplot as plt \n",
    "import seaborn as sns"
   ]
  },
  {
   "cell_type": "markdown",
   "id": "8ae22556-fab9-47c0-9e67-b5a8679d50ee",
   "metadata": {},
   "source": [
    "## Load the data"
   ]
  },
  {
   "cell_type": "code",
   "execution_count": 8,
   "id": "994442d7-827d-4baa-a38f-1d3bd9c83b80",
   "metadata": {},
   "outputs": [],
   "source": [
    "# import csv files with scraped data for resp. country \n",
    "# USA \n",
    "df_NY = pd.read_csv('output/indeed_jobs_USA_NY.csv')\n",
    "df_LA = pd.read_csv('output/indeed_jobs_USA_LA.csv')\n",
    "df_CHI = pd.read_csv('output/indeed_jobs_USA_Chicago.csv')\n",
    "\n",
    "# merge US cities \n"
   ]
  },
  {
   "cell_type": "code",
   "execution_count": 13,
   "id": "0e5b1c06-a080-40e8-8abc-f56b5f993404",
   "metadata": {},
   "outputs": [
    {
     "data": {
      "text/html": [
       "<div>\n",
       "<style scoped>\n",
       "    .dataframe tbody tr th:only-of-type {\n",
       "        vertical-align: middle;\n",
       "    }\n",
       "\n",
       "    .dataframe tbody tr th {\n",
       "        vertical-align: top;\n",
       "    }\n",
       "\n",
       "    .dataframe thead th {\n",
       "        text-align: right;\n",
       "    }\n",
       "</style>\n",
       "<table border=\"1\" class=\"dataframe\">\n",
       "  <thead>\n",
       "    <tr style=\"text-align: right;\">\n",
       "      <th></th>\n",
       "      <th>page</th>\n",
       "      <th>country</th>\n",
       "      <th>job_link</th>\n",
       "      <th>search_keyword</th>\n",
       "      <th>search_location</th>\n",
       "      <th>job_title</th>\n",
       "      <th>company_name</th>\n",
       "      <th>company_location</th>\n",
       "      <th>salary</th>\n",
       "      <th>job_description</th>\n",
       "    </tr>\n",
       "  </thead>\n",
       "  <tbody>\n",
       "    <tr>\n",
       "      <th>0</th>\n",
       "      <td>1</td>\n",
       "      <td>USA</td>\n",
       "      <td>https://www.indeed.com/rc/clk?jk=ef1f2d4dbe7e7...</td>\n",
       "      <td>Data+Analyst</td>\n",
       "      <td>Los+Angeles, CA</td>\n",
       "      <td>Data Analyst</td>\n",
       "      <td>Disney Entertainment &amp; ESPN Technology</td>\n",
       "      <td>Santa Monica, CA</td>\n",
       "      <td>$93,400 - $131,300 a year</td>\n",
       "      <td>Disney Entertainment &amp; ESPN Technology \\n On a...</td>\n",
       "    </tr>\n",
       "    <tr>\n",
       "      <th>1</th>\n",
       "      <td>1</td>\n",
       "      <td>USA</td>\n",
       "      <td>https://www.indeed.com/rc/clk?jk=1714f4c7f40d5...</td>\n",
       "      <td>Data+Analyst</td>\n",
       "      <td>Los+Angeles, CA</td>\n",
       "      <td>Risk Data Analyst</td>\n",
       "      <td>East West Bank</td>\n",
       "      <td>Pasadena, CA 91101</td>\n",
       "      <td>$67,000 - $80,000 a year  -   Full-time</td>\n",
       "      <td>Introduction: \\n  \\n  Since 1973, East West Ba...</td>\n",
       "    </tr>\n",
       "    <tr>\n",
       "      <th>2</th>\n",
       "      <td>1</td>\n",
       "      <td>USA</td>\n",
       "      <td>https://www.indeed.com/rc/clk?jk=14ecae504eac9...</td>\n",
       "      <td>Data+Analyst</td>\n",
       "      <td>Los+Angeles, CA</td>\n",
       "      <td>IT Analyst, Business Intelligence/Data Warehou...</td>\n",
       "      <td>Keck Medical Center of USC</td>\n",
       "      <td>Alhambra, CA</td>\n",
       "      <td>$95,680 - $158,230 a year</td>\n",
       "      <td>Actively design and develop ETL solutions that...</td>\n",
       "    </tr>\n",
       "    <tr>\n",
       "      <th>3</th>\n",
       "      <td>1</td>\n",
       "      <td>USA</td>\n",
       "      <td>https://www.indeed.com/rc/clk?jk=83b9fb56a5a21...</td>\n",
       "      <td>Data+Analyst</td>\n",
       "      <td>Los+Angeles, CA</td>\n",
       "      <td>Business Data Analyst</td>\n",
       "      <td>USC</td>\n",
       "      <td>Los Angeles, CA</td>\n",
       "      <td>$66,560 - $68,000 a year</td>\n",
       "      <td>Please review the Affirmative Action and Equal...</td>\n",
       "    </tr>\n",
       "    <tr>\n",
       "      <th>4</th>\n",
       "      <td>1</td>\n",
       "      <td>USA</td>\n",
       "      <td>https://www.indeed.com/rc/clk?jk=870670b7a9e07...</td>\n",
       "      <td>Data+Analyst</td>\n",
       "      <td>Los+Angeles, CA</td>\n",
       "      <td>Senior Staff Analyst, Data Analytics and Repor...</td>\n",
       "      <td>Heluna Health</td>\n",
       "      <td>Hybrid work in Los Angeles, CA 90014</td>\n",
       "      <td>$8,249.91 - $11,903.10 a month  -   Full-time</td>\n",
       "      <td>Salary: $8249.91- $11903.10 Monthly \\n \\n  SUM...</td>\n",
       "    </tr>\n",
       "  </tbody>\n",
       "</table>\n",
       "</div>"
      ],
      "text/plain": [
       "   page country                                           job_link  \\\n",
       "0     1     USA  https://www.indeed.com/rc/clk?jk=ef1f2d4dbe7e7...   \n",
       "1     1     USA  https://www.indeed.com/rc/clk?jk=1714f4c7f40d5...   \n",
       "2     1     USA  https://www.indeed.com/rc/clk?jk=14ecae504eac9...   \n",
       "3     1     USA  https://www.indeed.com/rc/clk?jk=83b9fb56a5a21...   \n",
       "4     1     USA  https://www.indeed.com/rc/clk?jk=870670b7a9e07...   \n",
       "\n",
       "  search_keyword  search_location  \\\n",
       "0   Data+Analyst  Los+Angeles, CA   \n",
       "1   Data+Analyst  Los+Angeles, CA   \n",
       "2   Data+Analyst  Los+Angeles, CA   \n",
       "3   Data+Analyst  Los+Angeles, CA   \n",
       "4   Data+Analyst  Los+Angeles, CA   \n",
       "\n",
       "                                           job_title  \\\n",
       "0                                       Data Analyst   \n",
       "1                                  Risk Data Analyst   \n",
       "2  IT Analyst, Business Intelligence/Data Warehou...   \n",
       "3                              Business Data Analyst   \n",
       "4  Senior Staff Analyst, Data Analytics and Repor...   \n",
       "\n",
       "                             company_name  \\\n",
       "0  Disney Entertainment & ESPN Technology   \n",
       "1                          East West Bank   \n",
       "2              Keck Medical Center of USC   \n",
       "3                                     USC   \n",
       "4                           Heluna Health   \n",
       "\n",
       "                       company_location  \\\n",
       "0                      Santa Monica, CA   \n",
       "1                    Pasadena, CA 91101   \n",
       "2                          Alhambra, CA   \n",
       "3                       Los Angeles, CA   \n",
       "4  Hybrid work in Los Angeles, CA 90014   \n",
       "\n",
       "                                          salary  \\\n",
       "0                      $93,400 - $131,300 a year   \n",
       "1        $67,000 - $80,000 a year  -   Full-time   \n",
       "2                      $95,680 - $158,230 a year   \n",
       "3                       $66,560 - $68,000 a year   \n",
       "4  $8,249.91 - $11,903.10 a month  -   Full-time   \n",
       "\n",
       "                                     job_description  \n",
       "0  Disney Entertainment & ESPN Technology \\n On a...  \n",
       "1  Introduction: \\n  \\n  Since 1973, East West Ba...  \n",
       "2  Actively design and develop ETL solutions that...  \n",
       "3  Please review the Affirmative Action and Equal...  \n",
       "4  Salary: $8249.91- $11903.10 Monthly \\n \\n  SUM...  "
      ]
     },
     "execution_count": 13,
     "metadata": {},
     "output_type": "execute_result"
    }
   ],
   "source": [
    "df_LA.head()\n",
    "# tail\n",
    "# info \n",
    "# shape \n",
    "# describe "
   ]
  },
  {
   "cell_type": "markdown",
   "id": "f08246d4-42ce-4439-94f5-7bd6730252ba",
   "metadata": {},
   "source": [
    "## Data reduction \n",
    "Handle missing and duplicate data entries. Remove unnecessary columns (if any). "
   ]
  },
  {
   "cell_type": "code",
   "execution_count": null,
   "id": "24f30dda-6803-470b-920d-3d8f0949c961",
   "metadata": {},
   "outputs": [],
   "source": [
    "# handle missing values \n",
    "\n",
    "# check for potential duplicates \n",
    "# nunique() \n",
    "# unique()\n",
    "# isnull().sum()\n",
    "# also calculate percentage of missing values for each column \n",
    "\n",
    "# drop columns if not needed "
   ]
  },
  {
   "cell_type": "markdown",
   "id": "decf7c6f-44fe-4be6-ab87-d0ff7ad45df4",
   "metadata": {},
   "source": [
    "## Data Cleaning \n",
    "Clean and preprocess the data to handle anomalies and outliers. "
   ]
  },
  {
   "cell_type": "markdown",
   "id": "aaf40e71-d3e0-4685-82be-bfa9f8277c5b",
   "metadata": {},
   "source": [
    "## Feature engineering "
   ]
  },
  {
   "cell_type": "code",
   "execution_count": null,
   "id": "24655e71-bf83-4ce4-93e3-8908e6652b6d",
   "metadata": {},
   "outputs": [],
   "source": [
    "# split column to separate numerical values for salary "
   ]
  },
  {
   "cell_type": "markdown",
   "id": "a3320411-409d-4d37-b3ce-3e6f0e23892e",
   "metadata": {},
   "source": [
    "## Univariate analysis \n"
   ]
  },
  {
   "cell_type": "code",
   "execution_count": null,
   "id": "7b922b5c-b1f5-481a-90a7-a366b465fd88",
   "metadata": {},
   "outputs": [],
   "source": []
  },
  {
   "cell_type": "markdown",
   "id": "c0f1e624-fc33-47bb-8da2-bbe7e7b66e65",
   "metadata": {},
   "source": [
    "## Bivariate analysis "
   ]
  },
  {
   "cell_type": "code",
   "execution_count": null,
   "id": "5ae366f7-cbf4-4cd9-876a-fa24be705b51",
   "metadata": {},
   "outputs": [],
   "source": []
  },
  {
   "cell_type": "code",
   "execution_count": 12,
   "id": "2df44d7d-3801-4630-8d12-a470437ab621",
   "metadata": {},
   "outputs": [],
   "source": [
    "## Visualization"
   ]
  },
  {
   "cell_type": "markdown",
   "id": "4fd5738d-42e7-462a-a129-343953578ab9",
   "metadata": {},
   "source": [
    "## Conclusions \n",
    "TBA."
   ]
  },
  {
   "cell_type": "code",
   "execution_count": null,
   "id": "29d13f98-8d74-4093-b01b-a51c7b890d61",
   "metadata": {},
   "outputs": [],
   "source": []
  }
 ],
 "metadata": {
  "kernelspec": {
   "display_name": "Python 3 (ipykernel)",
   "language": "python",
   "name": "python3"
  },
  "language_info": {
   "codemirror_mode": {
    "name": "ipython",
    "version": 3
   },
   "file_extension": ".py",
   "mimetype": "text/x-python",
   "name": "python",
   "nbconvert_exporter": "python",
   "pygments_lexer": "ipython3",
   "version": "3.12.4"
  }
 },
 "nbformat": 4,
 "nbformat_minor": 5
}
