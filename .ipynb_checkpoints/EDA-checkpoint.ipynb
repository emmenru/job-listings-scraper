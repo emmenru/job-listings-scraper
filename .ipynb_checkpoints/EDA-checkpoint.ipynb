{
 "cells": [
  {
   "cell_type": "markdown",
   "id": "af5df94f-3cd2-4290-85cd-ef3c40551d08",
   "metadata": {},
   "source": [
    "# Exploratory Data Analysis (EDA) "
   ]
  },
  {
   "cell_type": "code",
   "execution_count": null,
   "id": "f858da2c-1e97-4070-b1fd-994b71cb62a8",
   "metadata": {},
   "outputs": [],
   "source": [
    "# Install necessary packages \n",
    "# TO DO: fix requirements.txt file later \n",
    "#!pip install missingno\n",
    "#!pip install wordcloud\n",
    "\n",
    "# Is this causing big problems later on? \n",
    "# df['column_name'] = df['column_name'].astype('category')\n",
    "\n",
    "# my functions \n",
    "# The error occurs for salary_num_high"
   ]
  },
  {
   "cell_type": "code",
   "execution_count": null,
   "id": "dc3c9ebe-f86b-44b9-9ba5-81b68f34c79c",
   "metadata": {},
   "outputs": [],
   "source": [
    "# Import third-party libraries\n",
    "import missingno as msno\n",
    "import numpy as np\n",
    "import pandas as pd\n",
    "import seaborn as sns\n",
    "import matplotlib.pyplot as plt\n",
    "from collections import defaultdict\n",
    "\n",
    "# Activate autoreload for custom modules\n",
    "%load_ext autoreload\n",
    "%autoreload 2\n",
    "\n",
    "# Display plots inline\n",
    "%matplotlib inline\n",
    "\n",
    "# File path definitions\n",
    "DATA_PATH = 'output/indeed_jobs_'\n",
    "\n",
    "# Import local custom modules\n",
    "import utils.my_functions as mf\n",
    "import utils.plot_functions as pf\n",
    "import utils.text_parser as tf\n",
    "import utils.dictionaries as dicts\n",
    "\n",
    "# Constants and configurations"
   ]
  },
  {
   "cell_type": "markdown",
   "id": "8ae22556-fab9-47c0-9e67-b5a8679d50ee",
   "metadata": {},
   "source": [
    "## Load data\n",
    "Import the data scraped using scraper-countries.py (Sept 20-21 2024), for the following countries: USA, Sweden, France, and Italy. These datasets contain the job listings for the 3 largest cities in respective country, for the job titles _Data Scientist_, _Data Analyst_, _Product Analyst_, and _BI Analyst_."
   ]
  },
  {
   "cell_type": "code",
   "execution_count": null,
   "id": "994442d7-827d-4baa-a38f-1d3bd9c83b80",
   "metadata": {},
   "outputs": [],
   "source": [
    "# Import csv files with scraped data for resp. country \n",
    "countries = ['Sweden', 'France', 'Italy']\n",
    "dfs = {country: pd.read_csv(f\"{DATA_PATH}{country}.csv\") for country in countries}\n",
    "\n",
    "# Access individual dataframes as dataframes['Sweden'], dataframes['France'], etc.\n",
    "df_SWE = dfs['Sweden'] \n",
    "df_FRA = dfs['France'] \n",
    "df_ITA = dfs['Italy'] \n",
    "\n",
    "# USA \n",
    "df_USA = mf.merge_US_cities(['NY', 'LA', 'CHI'], DATA_PATH)"
   ]
  },
  {
   "cell_type": "markdown",
   "id": "773b1427-0bc7-46c9-9aa3-0beee7f08aea",
   "metadata": {},
   "source": [
    "## Initial data inspection"
   ]
  },
  {
   "cell_type": "code",
   "execution_count": null,
   "id": "b61551cf-c838-4fb0-a1fa-8959bfcf0a7f",
   "metadata": {},
   "outputs": [],
   "source": [
    "df_SWE.head()"
   ]
  },
  {
   "cell_type": "code",
   "execution_count": null,
   "id": "cf2b9eaf-f713-4268-9942-7a4538ff9f63",
   "metadata": {},
   "outputs": [],
   "source": [
    "df_FRA.head()"
   ]
  },
  {
   "cell_type": "code",
   "execution_count": null,
   "id": "1877d22d-50bc-40d6-a67b-7909e7b6d27a",
   "metadata": {},
   "outputs": [],
   "source": [
    "df_ITA.head()"
   ]
  },
  {
   "cell_type": "code",
   "execution_count": null,
   "id": "839ec993-0ccd-4f0a-b2b3-c71ca005d2f3",
   "metadata": {},
   "outputs": [],
   "source": [
    "df_USA.head()"
   ]
  },
  {
   "cell_type": "markdown",
   "id": "7d6338a0-f8e2-42ac-a1c3-b8ba852cb33c",
   "metadata": {},
   "source": [
    "### Check dimensions and data types"
   ]
  },
  {
   "cell_type": "code",
   "execution_count": null,
   "id": "17bb1456-3dff-4405-a190-3d8b3b544c7c",
   "metadata": {},
   "outputs": [],
   "source": [
    "# Check dimensions of dfs \n",
    "print(f'SWE \\t   columns: {df_SWE.shape[1]} \\t  rows: {df_SWE.shape[0]}')\n",
    "print(f'FRA \\t   columns: {df_FRA.shape[1]} \\t  rows: {df_FRA.shape[0]}')\n",
    "print(f'ITA \\t   columns: {df_ITA.shape[1]} \\t  rows: {df_ITA.shape[0]}')\n",
    "print(f'USA \\t   columns: {df_USA.shape[1]} \\t  rows: {df_USA.shape[0]}')"
   ]
  },
  {
   "cell_type": "code",
   "execution_count": null,
   "id": "0e5b1c06-a080-40e8-8abc-f56b5f993404",
   "metadata": {},
   "outputs": [],
   "source": [
    "# Check data types\n",
    "df_SWE.info() \n",
    "# Convert columns with strings only to string data type to optimize performance\n",
    "# Mixed columns with both numbers and strings that should be kept as object: company_location, salary, job_link (url)"
   ]
  },
  {
   "cell_type": "code",
   "execution_count": null,
   "id": "da977b26-9e80-4dfa-9eca-e467249f34fb",
   "metadata": {},
   "outputs": [],
   "source": [
    "dicts.dtype_dict"
   ]
  },
  {
   "cell_type": "code",
   "execution_count": null,
   "id": "48aa389f-5b82-4bfb-ba60-7c3ecdd57549",
   "metadata": {},
   "outputs": [],
   "source": [
    "# Convert columns to the correct data types \n",
    "df_SWE = df_SWE.astype(dicts.dtype_dict)\n",
    "df_FRA = df_FRA.astype(dicts.dtype_dict)\n",
    "df_ITA = df_ITA.astype(dicts.dtype_dict)\n",
    "df_USA = df_USA.astype(dicts.dtype_dict)\n",
    "print(df_SWE.dtypes)"
   ]
  },
  {
   "cell_type": "code",
   "execution_count": null,
   "id": "fe30cdb8-6fae-47cc-9429-9fea95b795b2",
   "metadata": {},
   "outputs": [],
   "source": [
    "df_SWE.info()"
   ]
  },
  {
   "cell_type": "markdown",
   "id": "ecde4a4f-a0a7-431b-b6bc-4c16baad1d10",
   "metadata": {},
   "source": [
    "### Conclusions\n",
    "- The following columns needs to be cleaned: search_keyword, job_title, job_description, company_location.   \n",
    "- The salary column should be split into two columns (separate numeric vs string content).    "
   ]
  },
  {
   "cell_type": "markdown",
   "id": "ae53fab4-f603-4014-8733-723f16946327",
   "metadata": {},
   "source": [
    "## Data Quality Assessment\n",
    "Data reduction and data cleaning"
   ]
  },
  {
   "cell_type": "markdown",
   "id": "99cec211-97b3-4b8f-a75e-07fb383e3cbe",
   "metadata": {},
   "source": [
    "### Missing values"
   ]
  },
  {
   "cell_type": "code",
   "execution_count": null,
   "id": "24f30dda-6803-470b-920d-3d8f0949c961",
   "metadata": {},
   "outputs": [],
   "source": [
    "# The scraper labels cells as 'Not available' when there is no value. Change these to NaN. \n",
    "df_SWE.replace('Not available', np.NaN, inplace=True)\n",
    "df_FRA.replace('Not available', np.NaN, inplace=True) \n",
    "df_ITA.replace('Not available', np.NaN, inplace=True)\n",
    "df_USA.replace('Not available', np.NaN, inplace=True)\n",
    "\n",
    "df_FRA.isnull().sum() # Missing salary and job description entries \n",
    "df_SWE.isnull().sum() # Missing salary entries \n",
    "df_ITA.isnull().sum() # Missing salary entries \n",
    "df_USA.isnull().sum() # Missing salary entries \n",
    "\n",
    "# Calculate percentage of missing values\n",
    "df_FRA.isnull().mean() * 100"
   ]
  },
  {
   "cell_type": "markdown",
   "id": "9145ea2a-d6c5-4d6e-8116-5db37575b6d6",
   "metadata": {},
   "source": [
    "Salary entries will be examined more in detail later when columns are split.  For now we do not drop these rows (we are not primarily interested in salaries). "
   ]
  },
  {
   "cell_type": "code",
   "execution_count": null,
   "id": "f2b0c2a3-4e4e-43e6-bf49-cdae958f9a11",
   "metadata": {},
   "outputs": [],
   "source": [
    "# Visualize missing data patterns using missingno\n",
    "msno.matrix(df_FRA) #.sample(250)\n",
    "plt.title('Matrix Plot of Missing Values - French listings', fontsize=16) \n",
    "plt.show()"
   ]
  },
  {
   "cell_type": "code",
   "execution_count": null,
   "id": "4cccd47c-e1bc-4551-a7d1-7d7fff6eb9b7",
   "metadata": {},
   "outputs": [],
   "source": [
    "# Look into the missing descriptions for French job listings (seems that scraper requests were blocked here?)\n",
    "print(df_FRA.isnull().sum())\n",
    "#df_FRA[df_FRA['job_description'].isnull()]\n",
    "\n",
    "# Manual imports of missing job descriptions from URLs \n",
    "df_FRA_missing = pd.read_csv('df_FRA_missing_data.csv')"
   ]
  },
  {
   "cell_type": "code",
   "execution_count": null,
   "id": "c19524f1-b6fa-468b-8a17-9a98113b1471",
   "metadata": {},
   "outputs": [],
   "source": [
    "# Merge the DataFrames based on the 'job_link' column\n",
    "merged_df = pd.merge(df_FRA, df_FRA_missing, on=['job_link'])\n",
    "merged_df = pd.merge(df_FRA, df_FRA_missing[['job_link', 'job_description_new']], on='job_link', how='left')\n",
    "# Save the job description as only one column (based on when it is not NaN)\n",
    "merged_df['job_description'] = merged_df['job_description'].combine_first(merged_df['job_description_new'])\n",
    "merged_df.drop('job_description_new', axis=1, inplace=True)\n",
    "# Verify that there are no missing values in job_description now\n",
    "merged_df.head()"
   ]
  },
  {
   "cell_type": "code",
   "execution_count": null,
   "id": "1b647f8c-a47b-44c4-bb88-236d82c43ee0",
   "metadata": {},
   "outputs": [],
   "source": [
    "merged_df.isnull().sum()\n",
    "df_FRA = merged_df\n",
    "print(df_FRA.isnull().sum())"
   ]
  },
  {
   "cell_type": "code",
   "execution_count": null,
   "id": "7baba1c6-eaf4-4a40-ba67-7dabc661c4b8",
   "metadata": {},
   "outputs": [],
   "source": [
    "# Now the job_description should not have missing values anymore\n",
    "msno.matrix(df_FRA) #.sample(250)\n",
    "plt.title('Matrix Plot of Missing Values - French listings', fontsize=16)  \n",
    "plt.show()"
   ]
  },
  {
   "cell_type": "code",
   "execution_count": null,
   "id": "8dacb7eb-196f-4a1b-a7a6-4cd4a72c3754",
   "metadata": {},
   "outputs": [],
   "source": [
    "# Make sure all data types are the same after adding info from CSV\n",
    "df_FRA = df_FRA.astype(dicts.dtype_dict)\n",
    "print(df_FRA.dtypes)"
   ]
  },
  {
   "cell_type": "code",
   "execution_count": null,
   "id": "557040ef-d985-42e2-b43a-136a247c8b7d",
   "metadata": {},
   "outputs": [],
   "source": [
    "# There are still many missing values for salary, but this is since that information was not always provided in the job listings\n",
    "#df_FRA[df_FRA['salary'].isnull()]\n",
    "df_FRA.isnull().sum()"
   ]
  },
  {
   "cell_type": "markdown",
   "id": "a7c9f3d6-39f7-4842-8377-424f0894fd74",
   "metadata": {},
   "source": [
    "### Check for duplicates"
   ]
  },
  {
   "cell_type": "code",
   "execution_count": null,
   "id": "b9fc90f2-ad1b-4ab1-b97a-534be94390cf",
   "metadata": {
    "scrolled": true
   },
   "outputs": [],
   "source": [
    "# Check for potential duplicates \n",
    "mf.check_duplicates(df_FRA)\n",
    "mf.check_duplicates(df_SWE)\n",
    "mf.check_duplicates(df_ITA)\n",
    "mf.check_duplicates(df_USA)"
   ]
  },
  {
   "cell_type": "markdown",
   "id": "385b85f5-cb36-498a-8129-fef813e82842",
   "metadata": {},
   "source": [
    "No rows are completely identical, but perhaps there are <i>job descriptions</i> that are identical? "
   ]
  },
  {
   "cell_type": "code",
   "execution_count": null,
   "id": "a7e2442d-bada-440e-9142-5c69e2653388",
   "metadata": {},
   "outputs": [],
   "source": [
    "# Identify duplicates (same job title, location, and job description, and keep only the latest job listing(\n",
    "df_SWE = mf.remove_duplicates_jobdesc(df_SWE) \n",
    "df_FRA = mf.remove_duplicates_jobdesc(df_FRA) \n",
    "df_ITA = mf.remove_duplicates_jobdesc(df_ITA)\n",
    "df_USA = mf.remove_duplicates_jobdesc(df_USA) "
   ]
  },
  {
   "cell_type": "markdown",
   "id": "5af2a89d-c6b5-42a7-97e8-2f59390b1f8f",
   "metadata": {
    "jp-MarkdownHeadingCollapsed": true
   },
   "source": [
    "There are numerous examples of completely identical job descriptions. These are likely reposts (the same job appearing multiple times, just with different unique links!). \n",
    "<b>Remove these entries if the job titles are the same and the locations are the same.</b> "
   ]
  },
  {
   "cell_type": "markdown",
   "id": "d361ff87-a6c5-4dd5-ba74-99f2c8f025da",
   "metadata": {},
   "source": [
    "## Descriptive statistics"
   ]
  },
  {
   "cell_type": "code",
   "execution_count": null,
   "id": "7ed1f6ef-7e1d-4c39-8b46-18d7ff9a2da6",
   "metadata": {},
   "outputs": [],
   "source": [
    "# Describe (numerical) columns  \n",
    "df_SWE.describe(include='all')"
   ]
  },
  {
   "cell_type": "code",
   "execution_count": null,
   "id": "bf7761cd-650b-45fe-8e0a-395986c29565",
   "metadata": {},
   "outputs": [],
   "source": [
    "# Clean job_title column \n",
    "df_FRA['job_title'] = df_FRA['job_title'].str.lower().str.replace(r'\\(?(h/f|f/h)\\)?', '', regex=True).str.strip()\n",
    "df_USA['job_title'] = df_USA['job_title'].str.lower()\n",
    "df_ITA['job_title'] = df_ITA['job_title'].str.lower()\n",
    "df_SWE['job_title'] = df_SWE['job_title'].str.lower()"
   ]
  },
  {
   "cell_type": "code",
   "execution_count": null,
   "id": "96951712-f264-4b05-b487-c3122a251718",
   "metadata": {
    "scrolled": true
   },
   "outputs": [],
   "source": [
    "# Describe categorical columns  \n",
    "mf.desc_categorical(df_SWE)"
   ]
  },
  {
   "cell_type": "markdown",
   "id": "d1492386-7c06-4951-b47a-8c22b68b65f2",
   "metadata": {},
   "source": [
    "### Preliminary observations, Swedish job listings:\n",
    "- __Most frequent job titles__: Systemutvecklare, Data Analyst, Data Scientist.\n",
    "- __Most frequent company__: Cubane Solutions AB. \n",
    "- __Company location__: Stockholm primarily. \n",
    "- __Salary ranges__: Few numerical values are provided."
   ]
  },
  {
   "cell_type": "code",
   "execution_count": null,
   "id": "fa29476a-d711-4a62-910a-56bc5e7f305b",
   "metadata": {},
   "outputs": [],
   "source": [
    "df_FRA.describe(include='all').head(4)"
   ]
  },
  {
   "cell_type": "code",
   "execution_count": null,
   "id": "fd7daf27-2c15-4a89-a459-79e1193772e9",
   "metadata": {
    "scrolled": true
   },
   "outputs": [],
   "source": [
    "mf.desc_categorical(df_FRA) "
   ]
  },
  {
   "cell_type": "markdown",
   "id": "a8039089-c7a4-4143-93dc-b9c86ab6bb79",
   "metadata": {},
   "source": [
    "### Preliminary observations, French job listings:\n",
    "- Many listings compared to Sweden. \n",
    "- __Most frequent job titles__: Data Analyst (many similar names for this title, e.g. Data Analyst H/F and Data Analyst Intern). \n",
    "- __Most frequently mentioned company__: AXA.\n",
    "- __Company location__: Most in Paris. Includes some information about télétravail (especially common in Paris).  \n",
    "- __Salary ranges__: Need to split column to be able to draw any conclusions."
   ]
  },
  {
   "cell_type": "code",
   "execution_count": null,
   "id": "ac553b24-c0b8-4827-92b0-5d901326569a",
   "metadata": {},
   "outputs": [],
   "source": [
    "df_ITA.describe(include='all').head(4)"
   ]
  },
  {
   "cell_type": "code",
   "execution_count": null,
   "id": "e69189b2-fc06-4217-88fb-cad8d87fd29f",
   "metadata": {},
   "outputs": [],
   "source": [
    "mf.desc_categorical(df_ITA) "
   ]
  },
  {
   "cell_type": "markdown",
   "id": "a31c7c6e-2565-43b1-ae77-41b3432f80ec",
   "metadata": {},
   "source": [
    "### Preliminary observations, Italian job listings:\n",
    "- Many listings compared to Sweden, but less than France.\n",
    "- __Most frequent job titles__: Data Analyst, Data Scientist, Business Analyst. \n",
    "- __Most frequently mentioned company__: BIP - Business Integration Partners. \n",
    "- __Company location__: Milano. Also remote in Milano is relatively common (as is Rome).\n",
    "- __Salary ranges__: Very few numerical entries provided. "
   ]
  },
  {
   "cell_type": "code",
   "execution_count": null,
   "id": "261ce1f6-a57e-4384-85d9-4e208f87df7f",
   "metadata": {},
   "outputs": [],
   "source": [
    "df_USA.describe(include='all').head(4)"
   ]
  },
  {
   "cell_type": "code",
   "execution_count": null,
   "id": "7f9f1349-1c45-4661-8269-73cfca8137bf",
   "metadata": {},
   "outputs": [],
   "source": [
    "mf.desc_categorical(df_USA) "
   ]
  },
  {
   "cell_type": "markdown",
   "id": "77ee8816-bc88-44f0-bc1f-d84f20a66e2e",
   "metadata": {},
   "source": [
    "### Preliminary observations, American job listings:\n",
    "- Number of listings are less than for France. \n",
    "- __Most frequent job titles__: Data Analyst, BI analyst, (Senior) Data Scientist. Interesting that Machine Learning Engineer shows up. Might need to cluster similar terms to get full picture (e.g. remove Senior etc.). \n",
    "- __Most frequently mentioned company__: Citi. \n",
    "- __Company location__: New York.  \n",
    "- __Salary ranges__: Need to split column to draw conclusions. "
   ]
  },
  {
   "cell_type": "markdown",
   "id": "aaf40e71-d3e0-4685-82be-bfa9f8277c5b",
   "metadata": {},
   "source": [
    "## Feature engineering "
   ]
  },
  {
   "cell_type": "markdown",
   "id": "11e8cd21-4fec-4c0c-9beb-cdb9817c599e",
   "metadata": {},
   "source": [
    "### Retrieve numeric values for salary"
   ]
  },
  {
   "cell_type": "code",
   "execution_count": null,
   "id": "513643a2-0142-44f3-9536-695f5e88223c",
   "metadata": {},
   "outputs": [],
   "source": [
    "# Dictionary of data frames \n",
    "dfs = {'SWE': df_SWE, 'FRA': df_FRA, 'ITA': df_ITA, 'USA': df_USA}\n",
    "\n",
    "# Loop through the dictionary and apply the function to clean dfs and add currency and salaries\n",
    "dfs = {key: mf.clean_and_add_currency_and_salaries(df, dicts.currency_mapping[key]) for key, df in dfs.items()}"
   ]
  },
  {
   "cell_type": "code",
   "execution_count": null,
   "id": "985f5251-c7fa-417c-98e7-bf06f6969d79",
   "metadata": {},
   "outputs": [],
   "source": [
    "# Merge all dfs in the dictionary into a single df\n",
    "df_combined = pd.concat(dfs.values(), ignore_index=True)\n",
    "df_combined.reset_index(drop=True, inplace=True)\n",
    "\n",
    "# Add dates when data was scraped \n",
    "df_combined['date'] = np.where(df_combined['country'].isin(['Sweden', 'USA']), pd.to_datetime('2024-09-19'), pd.to_datetime('2024-09-20'))"
   ]
  },
  {
   "cell_type": "code",
   "execution_count": null,
   "id": "34af7fbf-7155-4307-9c66-0d1cab4357e2",
   "metadata": {},
   "outputs": [],
   "source": [
    "# Get exchange rate from SEK to EUR\n",
    "sek_to_eur = mf.get_exchange_rate('SEK', 'EUR')\n",
    "# Get exchange rate from USD to EUR\n",
    "usd_to_eur = mf.get_exchange_rate('USD', 'EUR')\n",
    "\n",
    "print(f\"The exchange rate from SEK to EUR is: {sek_to_eur}\")\n",
    "print(f\"The exchange rate from USD to EUR is: {usd_to_eur}\")"
   ]
  },
  {
   "cell_type": "code",
   "execution_count": null,
   "id": "0bf2334f-c737-429d-89d9-430036465d28",
   "metadata": {},
   "outputs": [],
   "source": [
    "# Convert salary to same currency using exchange rate\n",
    "df_combined.loc[(df_combined['currency'] == 'SEK') & (df_combined['min_salary_month'].notna()), 'min_salary_month_EUR'] = df_combined['min_salary_month'] * sek_to_eur\n",
    "df_combined.loc[(df_combined['currency'] == 'SEK') & (df_combined['max_salary_month'].notna()), 'max_salary_month_EUR'] = df_combined['max_salary_month'] * sek_to_eur\n",
    "\n",
    "df_combined.loc[(df_combined['currency'] == 'USD') & (df_combined['min_salary_month'].notna()), 'min_salary_month_EUR'] = df_combined['min_salary_month'] * usd_to_eur\n",
    "df_combined.loc[(df_combined['currency'] == 'USD') & (df_combined['max_salary_month'].notna()), 'max_salary_month_EUR'] = df_combined['max_salary_month'] * usd_to_eur\n",
    "\n",
    "df_combined.loc[(df_combined['country'].isin(['France', 'Italy'])) & (df_combined['min_salary_month'].notna()), 'min_salary_month_EUR'] = df_combined['min_salary_month']\n",
    "df_combined.loc[(df_combined['country'].isin(['France', 'Italy'])) & (df_combined['max_salary_month'].notna()), 'max_salary_month_EUR'] = df_combined['max_salary_month']"
   ]
  },
  {
   "cell_type": "code",
   "execution_count": null,
   "id": "af582506-cfe4-4efc-a5f0-2091580bc0dc",
   "metadata": {},
   "outputs": [],
   "source": [
    "# Assign a job id to a column, instead of using unique URLs as identifier\n",
    "df_combined.insert(0, 'job_id', range(1, len(df_combined) + 1))"
   ]
  },
  {
   "cell_type": "code",
   "execution_count": null,
   "id": "1024835b-b4b5-42f3-801e-730e165ee2e1",
   "metadata": {},
   "outputs": [],
   "source": [
    "df_combined.head(3)"
   ]
  },
  {
   "cell_type": "markdown",
   "id": "8f9d8800-e259-4fd6-8038-93c489962872",
   "metadata": {},
   "source": [
    "### Detect keywords "
   ]
  },
  {
   "cell_type": "code",
   "execution_count": null,
   "id": "d329782e-2afb-4722-b84f-ecf8e7c79fa6",
   "metadata": {},
   "outputs": [],
   "source": [
    "# Extract keywords \n",
    "common_keywords_SWE = tf.extract_keywords(df_combined, 'Sweden', 'swedish')\n",
    "common_keywords_FRA = tf.extract_keywords(df_combined, 'France', 'french')\n",
    "common_keywords_ITA = tf.extract_keywords(df_combined, 'Italy', 'italian')\n",
    "common_keywords_USA = tf.extract_keywords(df_combined, 'USA', 'english')\n",
    "\n",
    "# Plot common keywords \n",
    "pf.plot_common_keywords(common_keywords_SWE[0], 'Sweden')\n",
    "pf.plot_common_keywords(common_keywords_FRA[0], 'France')\n",
    "pf.plot_common_keywords(common_keywords_ITA[0], 'Italy')\n",
    "pf.plot_common_keywords(common_keywords_USA[0], 'USA')"
   ]
  },
  {
   "cell_type": "code",
   "execution_count": null,
   "id": "daf2ff89-586d-44a7-b48e-c3d65d947add",
   "metadata": {},
   "outputs": [],
   "source": [
    "# Calculate software/programming keyword counts for each country \n",
    "keyword_counts_SWE = tf.count_keywords(df_combined, 'Sweden', dicts.software_keywords)\n",
    "keyword_counts_FRA = tf.count_keywords(df_combined, 'France', dicts.software_keywords)\n",
    "keyword_counts_ITA = tf.count_keywords(df_combined, 'Italy', dicts.software_keywords)\n",
    "keyword_counts_USA = tf.count_keywords(df_combined, 'USA', dicts.software_keywords)\n",
    "\n",
    "# Combine all dfs into one\n",
    "keyword_counts_combined = pd.concat([keyword_counts_SWE, keyword_counts_FRA, keyword_counts_ITA, keyword_counts_USA], ignore_index=True)\n",
    "keyword_counts_combined.sort_values(by=['Count'], ascending=[False])"
   ]
  },
  {
   "cell_type": "code",
   "execution_count": null,
   "id": "97ba0cf8-4475-427d-8c8a-46a51bce68fa",
   "metadata": {},
   "outputs": [],
   "source": [
    "# Extract interview information\n",
    "interview_info_df, interview_flags_df = tf.extract_interview_details(df_combined, dicts.interview_stages)"
   ]
  },
  {
   "cell_type": "code",
   "execution_count": null,
   "id": "f1748772-c1c6-422e-88f2-e18523caf0c7",
   "metadata": {},
   "outputs": [],
   "source": [
    "# Sum only Boolean columns in interview_flags_df to count occurrences of each interview stage\n",
    "stage_counts = interview_flags_df.select_dtypes(include='bool').sum()\n",
    "stage_counts"
   ]
  },
  {
   "cell_type": "code",
   "execution_count": null,
   "id": "ee900064-80d5-446a-9470-4e3f92bcccba",
   "metadata": {},
   "outputs": [],
   "source": [
    "filtered_df = interview_info_df[interview_info_df['case_study_text'].notna()]\n",
    "filtered_df.head(3)"
   ]
  },
  {
   "cell_type": "markdown",
   "id": "9c21acc4-2d4d-43d6-9145-548f7f75f64c",
   "metadata": {},
   "source": [
    "Information about the interview process seems to mostly be missing/left out from the job listnings. However, the most common category appears to be stages such as case studies, followed by phone screening, technical assessments, and coding assessments."
   ]
  },
  {
   "cell_type": "markdown",
   "id": "a3320411-409d-4d37-b3ce-3e6f0e23892e",
   "metadata": {},
   "source": [
    "## Univariate analysis \n"
   ]
  },
  {
   "cell_type": "code",
   "execution_count": null,
   "id": "3713eeb5-7ca2-4b28-8826-646816acceeb",
   "metadata": {},
   "outputs": [],
   "source": [
    "## 4. Univariate Analysis\n",
    "# - Numerical feature distribution\n",
    "# - Categorical feature distribution"
   ]
  },
  {
   "cell_type": "code",
   "execution_count": null,
   "id": "8e0b09be-9a91-4ce0-82f8-5732b4fd38cf",
   "metadata": {},
   "outputs": [],
   "source": [
    "# Categorical variables\n",
    "categorical_cols = ['country', 'job_title', 'company_name', 'company_location']\n",
    "\n",
    "# filtered_df = df_combined[df_combined['search_keyword'] == 'Data Scientist'][['country', 'search_keyword', 'job_title', 'company_name', 'company_location']]\n",
    "# filtered_df['job_title'].value_counts()\n",
    "# Things to fix for all job_title entries: to lower, remove (H/F) and (F/H) and H/F and F/H \n"
   ]
  },
  {
   "cell_type": "code",
   "execution_count": null,
   "id": "7b922b5c-b1f5-481a-90a7-a366b465fd88",
   "metadata": {},
   "outputs": [],
   "source": [
    "# Plotting frequency distribution\n",
    "pf.plot_categorical(df_combined, ['country'], top_n=4, horizontal=False)"
   ]
  },
  {
   "cell_type": "code",
   "execution_count": null,
   "id": "ee47553f-63ee-478f-9f00-750087470450",
   "metadata": {},
   "outputs": [],
   "source": [
    "# Example usage\n",
    "pf.plot_categorical(df_combined, ['job_title', 'company_name', 'company_location'], top_n=25, horizontal=True)\n",
    "# It seems like the counts are not checking for CAPTIONS ! Need to add to lower\n",
    "# Need to also group titles that are basically the same, e.g. strip (F/H) and (H/F) from french jobs \n",
    "# Same goes for Chicago, IL and so on "
   ]
  },
  {
   "cell_type": "markdown",
   "id": "0aef7325-6e8e-4545-beb8-76d84508af6b",
   "metadata": {},
   "source": [
    "Locations might need to be reformatted to fit better into map view in Tableau. "
   ]
  },
  {
   "cell_type": "code",
   "execution_count": null,
   "id": "48fdcd38-c475-45bf-a915-e0a792a4ce5d",
   "metadata": {},
   "outputs": [],
   "source": [
    "# There seem to be some formatting errors for certain salaries\n",
    "# For example, there is a 41 in the middle here\n",
    "df_combined['salary_num'].dropna()"
   ]
  },
  {
   "cell_type": "code",
   "execution_count": null,
   "id": "cccf4eee-6e7a-4771-861a-cd1e53d9018f",
   "metadata": {},
   "outputs": [],
   "source": [
    "# Set the display options to show all rows and columns\n",
    "pd.set_option('display.max_rows', 20)\n",
    "pd.set_option('display.max_columns', 20)\n",
    "\n",
    "df_combined[df_combined['country'] == 'USA']['salary_num'].dropna()"
   ]
  },
  {
   "cell_type": "code",
   "execution_count": null,
   "id": "343ba645-26df-47c6-b0e2-f01c2ef64985",
   "metadata": {},
   "outputs": [],
   "source": [
    "#df_combined[df_combined['salary_num'].notna()]\n",
    "# France \n",
    "mask_fr = df_combined['job_id'].isin([286, 323, 556, 678, 659, 673, 727, 744, 896, 768, 1094, 1142, 1288, 1317, 1350, 1456, 1469, 1477, 1478, 1481, 1483])\n",
    "df_combined[mask_fr] # this doesnt work! \n",
    "\n",
    "# USA \n",
    "#mask_US = df_combined['job_id'].isin([2205,2207, 2220])\n",
    "#df_combined[mask_US] # this actually works fine! \n",
    "\n"
   ]
  },
  {
   "cell_type": "code",
   "execution_count": null,
   "id": "00e41b26-eb6d-4d1c-83f6-0ed11bd0840e",
   "metadata": {},
   "outputs": [],
   "source": []
  },
  {
   "cell_type": "code",
   "execution_count": null,
   "id": "44b921d1-6491-4c39-8623-701441e012f0",
   "metadata": {},
   "outputs": [],
   "source": [
    "mask = (df_combined['country'] == 'France') & (df_combined['min_salary_month_EUR'].notna())\n",
    "\n",
    "df_combined[mask]"
   ]
  },
  {
   "cell_type": "code",
   "execution_count": null,
   "id": "843f658c-76ce-4859-9ddf-59dcb52e34cd",
   "metadata": {},
   "outputs": [],
   "source": [
    "# Histograms for salaries\n",
    "fig, axes = plt.subplots(1, len(df_combined['country'].unique()), figsize=(16, 6))\n",
    "\n",
    "# Create a histogram for each country\n",
    "for i, country in enumerate(df_combined['country'].unique()):\n",
    "    country_data = df_combined[df_combined['country'] == country]\n",
    "    sns.histplot(\n",
    "        x='min_salary_month_EUR',\n",
    "        data=country_data,\n",
    "        bins=10,\n",
    "        kde=True,\n",
    "        alpha=0.5,\n",
    "        ax=axes[i]\n",
    "    )\n",
    "    axes[i].set_title(country)\n",
    "    axes[i].set_xlabel('EUR')\n",
    "    axes[i].set_ylabel('Frequency')\n",
    "\n",
    "# Add a suptitle for the entire figure\n",
    "plt.suptitle('Min Salary Distribution')\n",
    "plt.tight_layout()\n",
    "\n",
    "# Show the plot\n",
    "plt.show()"
   ]
  },
  {
   "cell_type": "markdown",
   "id": "81c44fa3-badc-411d-a29d-57e4f2323a27",
   "metadata": {},
   "source": [
    "Observations regarding salaries: \n",
    "- **Sweden**: has only two data points. This makes sense cause in Swedish interview processes you usually do not discuss salaries until the very end of the rounds. Range:  \n",
    "- **France**: peaks at ..... Has errors in it. Some really low values are months instead of salaries. Range: \n",
    "- **Italy**: peaks at 1500 EUR per month. Interesting strange second peak at 4000 EUR.  Range: very large?\n",
    "- **USA**: significantly higher salaries overall, as to be expected. Tons of outliers? Need to look into mins and max values. Range: "
   ]
  },
  {
   "cell_type": "code",
   "execution_count": null,
   "id": "66f73eec-83db-4956-a50a-a478e69e669e",
   "metadata": {},
   "outputs": [],
   "source": [
    "# Plot the maximum salaries too \n",
    "# Histograms for salaries\n",
    "fig, axes = plt.subplots(1, len(df_combined['country'].unique()), figsize=(16, 6))\n",
    "\n",
    "# Create a histogram for each country\n",
    "for i, country in enumerate(df_combined['country'].unique()):\n",
    "    country_data = df_combined[df_combined['country'] == country]\n",
    "    sns.histplot(\n",
    "        x='max_salary_month_EUR',\n",
    "        data=country_data,\n",
    "        bins=10,\n",
    "        kde=True,\n",
    "        alpha=0.5,\n",
    "        ax=axes[i]\n",
    "    )\n",
    "    axes[i].set_title(country)\n",
    "    axes[i].set_xlabel('EUR')\n",
    "    axes[i].set_ylabel('Frequency')\n",
    "\n",
    "# Add a suptitle for the entire figure\n",
    "plt.suptitle('Max Salary Distribution')\n",
    "plt.tight_layout()\n",
    "\n",
    "# Show the plot\n",
    "plt.show()"
   ]
  },
  {
   "cell_type": "markdown",
   "id": "2cf4f7b2-c246-47f5-b242-a26862cde319",
   "metadata": {},
   "source": [
    "Peaks might suggest there are differences for different job titles? Lets check this. "
   ]
  },
  {
   "cell_type": "code",
   "execution_count": null,
   "id": "ba2c7fd5-b1d9-4a6a-aa53-cb903aa0e35e",
   "metadata": {},
   "outputs": [],
   "source": [
    "# Histograms for salaries by job title\n",
    "fig, axes = plt.subplots(1, len(df_combined['search_keyword'].unique()), figsize=(16, 6))\n",
    "\n",
    "# Create a histogram for each job title\n",
    "for i, job_title in enumerate(df_combined['search_keyword'].unique()):\n",
    "    job_title_data = df_combined[df_combined['search_keyword'] == job_title]\n",
    "    sns.histplot(\n",
    "        x='min_salary_month_EUR',\n",
    "        data=job_title_data,\n",
    "        bins=10,\n",
    "        kde=True,\n",
    "        alpha=0.5,\n",
    "        ax=axes[i]\n",
    "    )\n",
    "    axes[i].set_title(job_title)\n",
    "    axes[i].set_xlabel('EUR')\n",
    "    axes[i].set_ylabel('Frequency')\n",
    "\n",
    "# Add a suptitle for the entire figure\n",
    "plt.suptitle('Min Salary Distribution by Job Title')\n",
    "plt.tight_layout()\n",
    "\n",
    "# Show the plot\n",
    "plt.show()"
   ]
  },
  {
   "cell_type": "markdown",
   "id": "1ef5c762-8920-408f-b66c-9467537a22f7",
   "metadata": {},
   "source": [
    "It might be interesting to look into the job listings that are particularly well paid. What are their characteristics? "
   ]
  },
  {
   "cell_type": "code",
   "execution_count": null,
   "id": "fb4155f4-a2b1-4459-bd5f-5dbf8e8607e6",
   "metadata": {},
   "outputs": [],
   "source": [
    "df_combined.describe() # Check that min and max values make sense \n",
    "\n",
    "min_index = df_combined['min_salary_month_EUR'].idxmin()\n",
    "row_with_min = df_combined.loc[df_combined['min_salary_month_EUR'].idxmin()]\n",
    "#row_with_min['salary']\n",
    "# seems like extraction of salary is not checking for what says after the number \n",
    "# there is also a max value of 3 that is messed up for France "
   ]
  },
  {
   "cell_type": "code",
   "execution_count": null,
   "id": "0aaf81dd-0d96-4576-939e-fb534af62d69",
   "metadata": {},
   "outputs": [],
   "source": [
    "country_mask = (df_combined['country'] == 'USA')\n",
    "country = df_combined[country_mask]\n",
    "numerical_columns = ['min_salary_month_EUR', 'max_salary_month_EUR']  # Replace with your actual numerical columns\n",
    "pf.plot_numerical(country, numerical_columns)\n"
   ]
  },
  {
   "cell_type": "code",
   "execution_count": null,
   "id": "095c87ed-ce46-4a68-b7d3-af3c20ccf086",
   "metadata": {},
   "outputs": [],
   "source": [
    "# Dont forget the new table keyword_counts_combined "
   ]
  },
  {
   "cell_type": "markdown",
   "id": "c0f1e624-fc33-47bb-8da2-bbe7e7b66e65",
   "metadata": {},
   "source": [
    "## Bivariate analysis "
   ]
  },
  {
   "cell_type": "code",
   "execution_count": null,
   "id": "1e7fa7ea-4711-411f-b79c-1d1b2264a56d",
   "metadata": {},
   "outputs": [],
   "source": [
    "## 5. Bivariate and Multivariate Analysis\n",
    "# - Pairwise correlations\n",
    "# - Relationships between key variables"
   ]
  },
  {
   "cell_type": "code",
   "execution_count": null,
   "id": "ab246a3f-2ebe-4593-b606-b91bf04d8baf",
   "metadata": {},
   "outputs": [],
   "source": [
    "# Word cloud visualizations per country\n",
    "\n",
    "pf.plot_wordtree(common_keywords_SWE[1], 'Sweden')\n",
    "pf.plot_wordtree(common_keywords_FRA[1], 'France')\n",
    "pf.plot_wordtree(common_keywords_ITA[1], 'Italy')\n",
    "pf.plot_wordtree(common_keywords_USA[1], 'USA')"
   ]
  },
  {
   "cell_type": "code",
   "execution_count": null,
   "id": "a7e63905-4ee5-4580-b402-28c1a098cdae",
   "metadata": {},
   "outputs": [],
   "source": [
    "# Add also word cloud visualizations per job title? "
   ]
  },
  {
   "cell_type": "code",
   "execution_count": null,
   "id": "2df44d7d-3801-4630-8d12-a470437ab621",
   "metadata": {},
   "outputs": [],
   "source": [
    "# Number of job listings per job title and country \n",
    "# Box plots help visualize the distribution of salary ranges across different categories (e.g., job titles, countries).\n",
    "# Look at outliers in the box plot! \n",
    "\n",
    "sns.boxplot(data=df_combined, x='search_keyword', y='min_salary_month_EUR')\n",
    "plt.xticks(rotation=45)\n",
    "plt.title('Salary Distribution by Job Title')\n",
    "plt.show()\n",
    "\n",
    "mean_salary = df_combined.groupby('search_keyword')['min_salary_month_EUR'].mean().reset_index()\n",
    "sns.barplot(data=mean_salary, x='search_keyword', y='min_salary_month_EUR')\n",
    "plt.xticks(rotation=45)\n",
    "plt.title('Average Salary by Job Title')\n",
    "plt.show()\n",
    "\n",
    "sns.countplot(data=df_combined, x='search_keyword', hue='min_salary_month_EUR')\n",
    "plt.xticks(rotation=45)\n",
    "plt.title('Count of Job Titles by Salary Range')\n",
    "plt.show()\n",
    "\n",
    "sns.countplot(data=df_combined, x='search_keyword', hue='country')\n",
    "plt.xticks(rotation=45)\n",
    "plt.title('Count of Job Titles by Country')\n",
    "plt.show()"
   ]
  },
  {
   "cell_type": "markdown",
   "id": "942f7419-1485-4482-acb4-45ec0ca191af",
   "metadata": {},
   "source": [
    "There are a bunch of data analyst (also data scientist) jobs that are very well paid. Do they have anything in common? "
   ]
  },
  {
   "cell_type": "code",
   "execution_count": null,
   "id": "648065f1-0b50-4642-b3b0-f02f5e01b806",
   "metadata": {},
   "outputs": [],
   "source": [
    "import scipy.stats as stats\n",
    "salary_ranges = pd.cut(df_combined['salary_num_low'], bins=[0, 20000, 40000, 60000, 80000, 100000], labels=['<20k', '20-40k', '40-60k', '60-80k', '80-100k'])\n",
    "crosstab = pd.crosstab(df_combined['search_keyword'], salary_ranges)\n",
    "chi2, p, dof, expected = stats.chi2_contingency(crosstab)\n",
    "print(f'Chi-squared: {chi2}, p-value: {p}')"
   ]
  },
  {
   "cell_type": "code",
   "execution_count": null,
   "id": "74cafd83-6fd4-4a84-9c22-3b00982d6afa",
   "metadata": {},
   "outputs": [],
   "source": [
    "pivot_table = df_combined.pivot_table(values='max_salary_month_EUR', index='country', columns='search_keyword', aggfunc='mean')\n",
    "sns.heatmap(pivot_table, annot=True, cmap='YlGnBu')\n",
    "plt.title('Average Salary Heatmap by Country and Job Title')\n",
    "plt.show()"
   ]
  },
  {
   "cell_type": "code",
   "execution_count": null,
   "id": "1c18dfe9-fae9-48a0-986e-1c2463811543",
   "metadata": {},
   "outputs": [],
   "source": [
    "# What if you remove USA? \n",
    "non_usa_mask = df_combined['country'] != 'USA'\n",
    "\n",
    "# Create the pivot table using the non-USA rows\n",
    "pivot_table_min = df_combined.loc[non_usa_mask].pivot_table(values='min_salary_month_EUR', index='country', columns='search_keyword', aggfunc='mean')\n",
    "pivot_table_max = df_combined.loc[non_usa_mask].pivot_table(values='max_salary_month_EUR', index='country', columns='search_keyword', aggfunc='mean')\n",
    "\n",
    "sns.heatmap(pivot_table_min, annot=True, cmap='YlGnBu')\n",
    "plt.title('Average Min Salary Heatmap by Country and Job Title, if removing USA')\n",
    "plt.show()\n",
    "\n",
    "sns.heatmap(pivot_table_max, annot=True, cmap='YlGnBu')\n",
    "plt.title('Average Max Salary Heatmap by Country and Job Title, if removing USA')\n",
    "plt.show()"
   ]
  },
  {
   "cell_type": "markdown",
   "id": "4fd5738d-42e7-462a-a129-343953578ab9",
   "metadata": {},
   "source": [
    "## Conclusions \n",
    "TBA.\n",
    "\n",
    "Where did the analysis of programming languages etc. go?\n",
    "\n",
    "Salaries: \n",
    "- As expected, salaries are significantly higher in the US. For some reason, maximum salaries appear to be for Data Analyst jobs? \n",
    "- If you want to be well paid in Europe, it seems like a good idea to become a Data Scientist in Sweden, or Product Analyst in France or Italy. There are tons of jobs that fell under the 'Product Analyst' title for France. Have to look into this. It would be worth looking into the job descriptions of these titles in France and Italy to understand this better. There are too few data points for Sweden. \n",
    "\n",
    "- Job titles appear to vary somewhat between countries (since top 3 ones were different for different countries). \n",
    "- Clean up job titles for different countries?\n",
    "- Case studies "
   ]
  }
 ],
 "metadata": {
  "kernelspec": {
   "display_name": "Python 3 (ipykernel)",
   "language": "python",
   "name": "python3"
  },
  "language_info": {
   "codemirror_mode": {
    "name": "ipython",
    "version": 3
   },
   "file_extension": ".py",
   "mimetype": "text/x-python",
   "name": "python",
   "nbconvert_exporter": "python",
   "pygments_lexer": "ipython3",
   "version": "3.12.4"
  }
 },
 "nbformat": 4,
 "nbformat_minor": 5
}
