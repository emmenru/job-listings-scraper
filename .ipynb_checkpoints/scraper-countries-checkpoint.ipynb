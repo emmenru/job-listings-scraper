{
 "cells": [
  {
   "cell_type": "markdown",
   "id": "a95198ef-8029-45c5-a10c-1e6ec965e939",
   "metadata": {},
   "source": [
    "# Scrape data from Indeed\n",
    "\n",
    "### Import necessary moduels "
   ]
  },
  {
   "cell_type": "code",
   "execution_count": 17,
   "id": "cf73cc87-dbda-4211-bddd-d3d7cd2e7536",
   "metadata": {},
   "outputs": [],
   "source": [
    "import time\n",
    "import requests\n",
    "import math\n",
    "import random\n",
    "from csv import writer\n",
    "from bs4 import BeautifulSoup\n",
    "from lxml import etree as et\n",
    "from selenium import webdriver\n",
    "from selenium.webdriver.chrome.service import Service\n",
    "from selenium.webdriver.support.ui import WebDriverWait\n",
    "from selenium.webdriver.support import expected_conditions as EC\n",
    "from selenium.webdriver.common.by import By\n",
    "from selenium.common.exceptions import WebDriverException\n",
    "from webdriver_manager.chrome import ChromeDriverManager"
   ]
  },
  {
   "cell_type": "markdown",
   "id": "1547b948-8992-49a9-8bef-25596246b00b",
   "metadata": {},
   "source": [
    "### Function definitions"
   ]
  },
  {
   "cell_type": "code",
   "execution_count": 28,
   "id": "76419f82-7945-40d7-adb0-57790fa6794b",
   "metadata": {},
   "outputs": [],
   "source": [
    "# Initialize WebDriver\n",
    "\n",
    "def initialize_driver():\n",
    "    options = webdriver.ChromeOptions()\n",
    "    service = Service(ChromeDriverManager().install())\n",
    "    driver = webdriver.Chrome(service=service, options=options)\n",
    "    return driver\n",
    "    \n",
    "\n",
    "# Function to get DOM from the given URL\n",
    "def get_dom(url):\n",
    "    global driver\n",
    "    try:\n",
    "        driver.get(url)\n",
    "        #time.sleep(3)  # Ensure page loads\n",
    "        time.sleep(random.uniform(2, 5))  # Sleep for a random time between 2 to 5 seconds\n",
    "        page_content = driver.page_source\n",
    "        product_soup = BeautifulSoup(page_content, 'html.parser')\n",
    "        dom = et.HTML(str(product_soup))\n",
    "        return dom\n",
    "    except WebDriverException as e:\n",
    "        print(\"WebDriver disconnected, restarting the browser:\", e)\n",
    "        driver.quit()\n",
    "        driver = initialize_driver()\n",
    "        return None\n",
    "\n",
    "# Functions to extract job details (job link, description, title, company name, location, and salary)\n",
    "def get_job_link(job):\n",
    "    try:\n",
    "        return job.xpath('./descendant::h2/a/@href')[0]\n",
    "    except Exception:\n",
    "        return 'Not available'\n",
    "\n",
    "def get_job_desc(job_link):\n",
    "    job_dom = get_dom(job_link)\n",
    "    try:\n",
    "        job_desc = job_dom.xpath('//*[@id=\"jobDescriptionText\"]//text()')\n",
    "        return \" \".join(job_desc).strip() if job_desc else 'Not available'\n",
    "    except Exception:\n",
    "        return 'Not available'\n",
    "\n",
    "def get_job_title(job):\n",
    "    try:\n",
    "        job_title = job.xpath('./descendant::h2/a/span/text()')[0]\n",
    "    except Exception:\n",
    "        job_title = 'Not available'\n",
    "    return job_title\n",
    "\n",
    "def get_company_name(job):\n",
    "    try:\n",
    "        company_name = job.xpath('.//span[@data-testid=\"company-name\"]/text()')[0]\n",
    "    except Exception:\n",
    "        company_name = 'Not available'\n",
    "    return company_name\n",
    "\n",
    "def get_company_location(job):\n",
    "    try:\n",
    "        company_location = job.xpath('.//div[@data-testid=\"text-location\"]/text()')[0]\n",
    "    except Exception:\n",
    "        company_location = 'Not available'\n",
    "    return company_location\n",
    "\n",
    "def get_salary(job_link):\n",
    "    job_dom = get_dom(job_link)\n",
    "    try:\n",
    "        salary = job_dom.xpath('//*[@id=\"salaryInfoAndJobType\"]//text()')\n",
    "        return \" \".join(salary).strip() if salary else 'Not available'\n",
    "    except Exception:\n",
    "        return 'Not available'\n",
    "\n",
    "# Function to estimate the total number of pages for a specific search\n",
    "def get_total_pages(job_keyword, location_keyword, base_url):\n",
    "    url = f\"{base_url}/jobs?q={job_keyword}&l={location_keyword}\"\n",
    "    driver.get(url)\n",
    "    try:\n",
    "        job_count_element = WebDriverWait(driver, 10).until(\n",
    "            EC.presence_of_element_located((By.XPATH, '//div[contains(@class, \"jobsearch-JobCountAndSortPane-jobCount\")]'))\n",
    "        )\n",
    "        job_count_text = job_count_element.text\n",
    "        job_count = int(job_count_text.split('+')[0].replace(',', '').strip())  # Handle commas and extra spaces\n",
    "        jobs_per_page = 15\n",
    "        total_pages = math.ceil(job_count / jobs_per_page)\n",
    "        return total_pages\n",
    "    except Exception as e:\n",
    "        print(f\"Error extracting job count: {e}\")\n",
    "        return 0"
   ]
  },
  {
   "cell_type": "markdown",
   "id": "6954fc4f-fed4-4d31-8276-d4d6737875ae",
   "metadata": {},
   "source": [
    "### Job title definitions"
   ]
  },
  {
   "cell_type": "code",
   "execution_count": 29,
   "id": "bcf93126-7686-4467-9cee-bee62d3e91ed",
   "metadata": {},
   "outputs": [],
   "source": [
    "# Define job search keywords\n",
    "job_search_keywords = ['Data+Analyst', 'Data+Scientist', 'Product+Analyst', 'BI+Analyst']\n",
    "\n",
    "# Define country configurations (base URLs and city lists)\n",
    "country_configs = {\n",
    "    'USA': {\n",
    "        'base_url': 'https://www.indeed.com',\n",
    "        'cities': ['Chicago, IL'] #['New+York, NY', 'Los+Angeles, CA', 'Chicago, IL']\n",
    "    },\n",
    "    'France': {\n",
    "        'base_url': 'https://www.indeed.fr',\n",
    "        'cities': ['Paris (75)', 'Marseille (13)', 'Lyon (69)']\n",
    "    },\n",
    "    'Italy': {\n",
    "        'base_url': 'https://it.indeed.com',\n",
    "        'cities': ['Roma, Lazio', 'Milano, Lombardia', 'Napoli, Campania']\n",
    "    },\n",
    "    'Sweden': {\n",
    "        'base_url': 'https://se.indeed.com',\n",
    "        'cities': ['Stockholm', 'Göteborg', 'Malmö']\n",
    "    }\n",
    "}"
   ]
  },
  {
   "cell_type": "markdown",
   "id": "1bb251cb-fe3b-43ae-8357-0566c6235344",
   "metadata": {},
   "source": [
    "### Run this cell to select a country"
   ]
  },
  {
   "cell_type": "code",
   "execution_count": 26,
   "id": "1b7e4497-9930-4f90-b664-649b28f2c3c3",
   "metadata": {},
   "outputs": [
    {
     "name": "stdout",
     "output_type": "stream",
     "text": [
      "Select a country from the following list:\n",
      "1. USA\n",
      "2. France\n",
      "3. Italy\n",
      "4. Sweden\n"
     ]
    },
    {
     "name": "stdin",
     "output_type": "stream",
     "text": [
      "Enter the number of your choice:  1\n"
     ]
    },
    {
     "name": "stdout",
     "output_type": "stream",
     "text": [
      "You have selected: USA\n"
     ]
    }
   ],
   "source": [
    "print(\"Select a country from the following list:\")\n",
    "for i, country in enumerate(country_configs.keys()):\n",
    "    print(f\"{i + 1}. {country}\")\n",
    "\n",
    "country_choice = int(input(\"Enter the number of your choice: \")) - 1\n",
    "selected_country = list(country_configs.keys())[country_choice]\n",
    "print(f\"You have selected: {selected_country}\")\n",
    "\n",
    "# Fetch the country-specific configurations\n",
    "selected_country_config = country_configs[selected_country]\n",
    "base_url = selected_country_config['base_url']\n",
    "location_search_keywords = selected_country_config['cities']"
   ]
  },
  {
   "cell_type": "markdown",
   "id": "850d8043-9456-4956-a12f-dcf0758ccfe9",
   "metadata": {},
   "source": [
    "### Main script \n",
    "Saves the data to a csv file. "
   ]
  },
  {
   "cell_type": "code",
   "execution_count": 30,
   "id": "daf9552e-4c3b-4aa6-b492-1e281fbaf140",
   "metadata": {},
   "outputs": [
    {
     "name": "stdout",
     "output_type": "stream",
     "text": [
      "Searching for: Software+Developer in Chicago, IL (USA)\n",
      "Error extracting job count: Message: \n",
      "Stacktrace:\n",
      "0   chromedriver                        0x000000010d66c338 chromedriver + 5096248\n",
      "1   chromedriver                        0x000000010d663b6a chromedriver + 5061482\n",
      "2   chromedriver                        0x000000010d1eefd0 chromedriver + 389072\n",
      "3   chromedriver                        0x000000010d23b9ab chromedriver + 702891\n",
      "4   chromedriver                        0x000000010d23ba81 chromedriver + 703105\n",
      "5   chromedriver                        0x000000010d27fcd4 chromedriver + 982228\n",
      "6   chromedriver                        0x000000010d25ff1d chromedriver + 851741\n",
      "7   chromedriver                        0x000000010d27d250 chromedriver + 971344\n",
      "8   chromedriver                        0x000000010d25fc93 chromedriver + 851091\n",
      "9   chromedriver                        0x000000010d22ec79 chromedriver + 650361\n",
      "10  chromedriver                        0x000000010d22f49e chromedriver + 652446\n",
      "11  chromedriver                        0x000000010d62f0b0 chromedriver + 4845744\n",
      "12  chromedriver                        0x000000010d633fc8 chromedriver + 4865992\n",
      "13  chromedriver                        0x000000010d634695 chromedriver + 4867733\n",
      "14  chromedriver                        0x000000010d611ce9 chromedriver + 4725993\n",
      "15  chromedriver                        0x000000010d634989 chromedriver + 4868489\n",
      "16  chromedriver                        0x000000010d603c04 chromedriver + 4668420\n",
      "17  chromedriver                        0x000000010d653e68 chromedriver + 4996712\n",
      "18  chromedriver                        0x000000010d654067 chromedriver + 4997223\n",
      "19  chromedriver                        0x000000010d66376e chromedriver + 5060462\n",
      "20  libsystem_pthread.dylib             0x00007fff6f86b109 _pthread_start + 148\n",
      "21  libsystem_pthread.dylib             0x00007fff6f866b8b thread_start + 15\n",
      "\n",
      "Total pages found in USA: 0\n"
     ]
    }
   ],
   "source": [
    "# Initialize WebDriver\n",
    "driver = initialize_driver()\n",
    "\n",
    "# Open CSV file to write job listings data\n",
    "with open(f'indeed_jobs_{selected_country}.csv', 'w', newline='', encoding='utf-8') as f:\n",
    "    theWriter = writer(f)\n",
    "    heading = ['page', 'country', 'job_link', 'search_keyword', 'search_location', 'job_title', 'company_name', 'company_location', 'salary', 'job_description']\n",
    "    theWriter.writerow(heading)\n",
    "\n",
    "    # Loop through job keywords and locations for the selected country\n",
    "    for job_keyword in job_search_keywords:\n",
    "        for location_keyword in location_search_keywords:\n",
    "            print(f\"Searching for: {job_keyword} in {location_keyword} ({selected_country})\")\n",
    "            \n",
    "            # Get total number of pages for the job search\n",
    "            total_pages = get_total_pages(job_keyword, location_keyword, base_url)\n",
    "            print(f\"Total pages found in {selected_country}: {total_pages}\")\n",
    "            \n",
    "            for page_no in range(total_pages):  # Modify range to get more or fewer pages if needed\n",
    "                print(f\"Fetching page {page_no + 1} for {job_keyword} in {location_keyword} ({selected_country})\")\n",
    "                url = f\"{base_url}/jobs?q={job_keyword}&l={location_keyword}&start={page_no * 10}\"\n",
    "                page_dom = get_dom(url)\n",
    "                \n",
    "                # Extract jobs from the current page\n",
    "                jobs = page_dom.xpath('//div[@class=\"job_seen_beacon\"]')\n",
    "                print(f\"Jobs found on page {page_no + 1}: {len(jobs)}\")\n",
    "                \n",
    "                for job in jobs:\n",
    "                    job_link = base_url + get_job_link(job)\n",
    "                    job_title = get_job_title(job)\n",
    "                    company_name = get_company_name(job)\n",
    "                    company_location = get_company_location(job)\n",
    "                    salary = get_salary(job_link)\n",
    "                    job_desc = get_job_desc(job_link)\n",
    "                    record = [page_no + 1, selected_country, job_link, job_keyword, location_keyword, job_title, company_name, company_location, salary, job_desc]\n",
    "                    theWriter.writerow(record)  # Write the record to CSV\n",
    "                    #time.sleep(2)\n",
    "                    time.sleep(random.uniform(2, 5))  # Sleep for a random time between 2 to 5 seconds\n",
    "\n",
    "\n",
    "# Close the web browser\n",
    "driver.quit()"
   ]
  },
  {
   "cell_type": "code",
   "execution_count": null,
   "id": "4505c490-9a2f-4515-a35f-cf4560f5709e",
   "metadata": {},
   "outputs": [],
   "source": []
  }
 ],
 "metadata": {
  "kernelspec": {
   "display_name": "Python 3 (ipykernel)",
   "language": "python",
   "name": "python3"
  },
  "language_info": {
   "codemirror_mode": {
    "name": "ipython",
    "version": 3
   },
   "file_extension": ".py",
   "mimetype": "text/x-python",
   "name": "python",
   "nbconvert_exporter": "python",
   "pygments_lexer": "ipython3",
   "version": "3.12.4"
  }
 },
 "nbformat": 4,
 "nbformat_minor": 5
}
